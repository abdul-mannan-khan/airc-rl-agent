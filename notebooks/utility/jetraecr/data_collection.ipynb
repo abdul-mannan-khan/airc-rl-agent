{
 "cells": [
  {
   "cell_type": "markdown",
   "metadata": {},
   "source": [
    "# JetBot - Data collection\n",
    "\n",
    "In this notebook we'll collect training data for CNN VAE. The training data save to dataset directory. Need USB gamepad for running.\n",
    "\n",
    "## Import module\n",
    "\n",
    "Import required module for this notebook. MobileController module is own module. This module implements Jetbot steering control.\n"
   ]
  },
  {
   "cell_type": "code",
   "execution_count": 1,
   "metadata": {},
   "outputs": [],
   "source": [
    "import os\n",
    "import traitlets\n",
    "import ipywidgets.widgets as widgets\n",
    "from IPython.display import display\n",
    "from jetracer.nvidia_racecar import NvidiaRacecar\n",
    "from jetcam.csi_camera import CSICamera\n",
    "from jetcam.utils import bgr8_to_jpeg"
   ]
  },
  {
   "cell_type": "markdown",
   "metadata": {},
   "source": [
    "## Activation Gamepad.\n",
    "This step is similar to \"Teleoperation\" task. In this task, we will use gamepad controller to collect training data.\n",
    "\n",
    "The first thing we want to do is create an instance of the Controller widget, which we'll use to control jetbot with speed and steering. The Controller widget takes a index parameter, which specifies the number of the controller. This is useful in case you have multiple controllers attached, or some gamepads appear as multiple controllers. To determine the index of the controller you're using,\n",
    "\n",
    "Visit http://html5gamepad.com. Press buttons on the gamepad you're using Remember the index of the gamepad that is responding to the button presses Next, we'll create and display our controller using that index.\n"
   ]
  },
  {
   "cell_type": "code",
   "execution_count": 2,
   "metadata": {},
   "outputs": [
    {
     "data": {
      "application/vnd.jupyter.widget-view+json": {
       "model_id": "257b2e0b8f0143a9ab29f4e219de2aa2",
       "version_major": 2,
       "version_minor": 0
      },
      "text/plain": [
       "Controller()"
      ]
     },
     "metadata": {},
     "output_type": "display_data"
    }
   ],
   "source": [
    "controller = widgets.Controller(index=0)\n",
    "display(controller)"
   ]
  },
  {
   "cell_type": "markdown",
   "metadata": {},
   "source": [
    "Now we can look Button assignment of gamepad. let check your need key assignment.\n",
    "\n",
    "* SPEED is left side joystick uptodown almost is joys 1\n",
    "* STERING is right side joystick left-right almost is joys2\n",
    "* RECORDING is right side  trigger almost is buttons 5\n"
   ]
  },
  {
   "cell_type": "code",
   "execution_count": 3,
   "metadata": {},
   "outputs": [],
   "source": [
    "SPEED=1\n",
    "STERING=2\n",
    "RECORDING=5"
   ]
  },
  {
   "cell_type": "markdown",
   "metadata": {},
   "source": [
    "## Steering Control\n",
    "\n",
    "Steering control need to \"wheel track\" parameter. Wheel track is between distance left-right wheels.\n",
    "We'll measure wheel track  measure in cm."
   ]
  },
  {
   "cell_type": "code",
   "execution_count": 4,
   "metadata": {},
   "outputs": [],
   "source": [
    "car = NvidiaRacecar(steering_channel=1, throttle_channel=0)\n",
    "car.steering_gain = -0.65\n",
    "car.throttle_gain = 0.3"
   ]
  },
  {
   "cell_type": "markdown",
   "metadata": {},
   "source": [
    "We'll run next block. and We can controll jetbot with gamepad."
   ]
  },
  {
   "cell_type": "code",
   "execution_count": 5,
   "metadata": {
    "collapsed": false,
    "jupyter": {
     "outputs_hidden": false
    }
   },
   "outputs": [
    {
     "data": {
      "application/vnd.jupyter.widget-view+json": {
       "model_id": "f9a129419c7644229bc2a4e0feb7c5d4",
       "version_major": 2,
       "version_minor": 0
      },
      "text/plain": [
       "HBox(children=(FloatSlider(value=0.003921568393707275, description='speed', max=1.0, min=-1.0), FloatSlider(va…"
      ]
     },
     "metadata": {},
     "output_type": "display_data"
    }
   ],
   "source": [
    "speed = widgets.FloatSlider(min=-1.0, max=1.0, description='speed')\n",
    "steering = widgets.FloatSlider(min=-1.0, max=1.0, description='steering')\n",
    "\n",
    "\n",
    "speed_link = traitlets.dlink((controller.axes[SPEED], 'value'), (car, 'throttle'), transform=lambda x: -x)\n",
    "steering_link = traitlets.dlink((controller.axes[STERING], 'value'), (car, 'steering'))\n",
    "traitlets.dlink((car, 'throttle'), (speed,'value'))\n",
    "traitlets.dlink((car, 'steering'), (steering, 'value'))\n",
    "display(widgets.HBox([speed,steering]))"
   ]
  },
  {
   "cell_type": "markdown",
   "metadata": {},
   "source": [
    "## Initialize Camera\n",
    "\n",
    "Next is initializing camera module. Image size is 320 x 240. Frame rate is about 27Hz. We'll save image in camera observer method. camera observer method can get image per frame rate. Thus, frame rate is decide to image save interval."
   ]
  },
  {
   "cell_type": "code",
   "execution_count": 6,
   "metadata": {},
   "outputs": [],
   "source": [
    "CAMERA_WIDTH = 320\n",
    "CAMERA_HEIGHT = 240\n",
    "\n",
    "camera = CSICamera(width=CAMERA_WIDTH, height=CAMERA_HEIGHT, capture_width=CAMERA_WIDTH, \n",
    "                   capture_height=CAMERA_HEIGHT, capture_fps=60)\n",
    "\n",
    "camera.running = True\n",
    "\n",
    "image = widgets.Image(format='jpeg', width=320, height=240)\n",
    "camera_link = traitlets.dlink((camera,'value'), (image,'value'), transform=bgr8_to_jpeg)\n",
    "#display(image)\n",
    "\n",
    "\n",
    "# camera = Camera.instance(width=320, height=240)\n",
    "# image = widgets.Image(format='jpeg', width=320, height=240)\n",
    "# camera_link = traitlets.dlink((camera,'value'), (image,'value'), transform=bgr8_to_jpeg)\n"
   ]
  },
  {
   "cell_type": "markdown",
   "metadata": {},
   "source": [
    "## UI Widget\n",
    "\n",
    "We can check Gamepad value and Image. "
   ]
  },
  {
   "cell_type": "code",
   "execution_count": 7,
   "metadata": {},
   "outputs": [
    {
     "name": "stdout",
     "output_type": "stream",
     "text": [
      "Directories not created becasue they already exist\n"
     ]
    },
    {
     "data": {
      "application/vnd.jupyter.widget-view+json": {
       "model_id": "e1ae860ad306405984e4355e7cda8718",
       "version_major": 2,
       "version_minor": 0
      },
      "text/plain": [
       "HBox(children=(VBox(children=(HBox(children=(Label(value='Number image:', layout=Layout(height='64px', width='…"
      ]
     },
     "metadata": {},
     "output_type": "display_data"
    }
   ],
   "source": [
    "DATASET_DIR = 'dataset'\n",
    "try:\n",
    "    os.makedirs(DATASET_DIR)\n",
    "except FileExistsError:\n",
    "    print('Directories not created becasue they already exist')\n",
    "\n",
    "dataset=DATASET_DIR\n",
    "layout = widgets.Layout(width='100px', height='64px')\n",
    "count_box   = widgets.IntText(layout=layout, value=len(os.listdir(dataset)))\n",
    "count_label = widgets.Label(layout=layout, value='Number image:')\n",
    "count_panel = widgets.HBox([count_label,count_box])\n",
    "\n",
    "panel = widgets.VBox([count_panel, speed, steering])\n",
    "display(widgets.HBox([panel,image]))\n"
   ]
  },
  {
   "cell_type": "markdown",
   "metadata": {},
   "source": [
    "## Set callback for collect the training data.\n",
    "\n",
    "```save_record``` is callback for training data. The method set to camera observer. This callback saving the image that contain speed and steering in file name to DATASET_DIR. When holding ```R``` button, this method recording training data. You can check number of training data with ```Number image text box```."
   ]
  },
  {
   "cell_type": "code",
   "execution_count": 8,
   "metadata": {},
   "outputs": [],
   "source": [
    "\n",
    "import os\n",
    "from uuid import uuid1\n",
    "\n",
    "def save_record(change):                \n",
    "    global controller, car, speed, steering\n",
    "    if controller.buttons[RECORDING].value==1.0:\n",
    "        \n",
    "        image_name = '{:.02f}_{:.02f}_{}.jpg'.format(car.throttle, car.steering,uuid1())\n",
    "        image_path = os.path.join(DATASET_DIR, image_name)\n",
    "        save_image=bgr8_to_jpeg(change['new'])\n",
    "        with open(image_path, 'wb') as f:\n",
    "            f.write(save_image)\n",
    "        count_box.value = len(os.listdir(dataset)) \n",
    "\n",
    "\n",
    "save_record({'new': camera.value})\n",
    "camera.observe(save_record, names='value')"
   ]
  },
  {
   "cell_type": "markdown",
   "metadata": {},
   "source": [
    "## Cleanup\n",
    "After collecting enough data. cleanup camera observer and stop all motor."
   ]
  },
  {
   "cell_type": "code",
   "execution_count": 9,
   "metadata": {},
   "outputs": [],
   "source": [
    "camera.unobserve_all()\n",
    "speed_link.unlink()\n",
    "steering_link.unlink()\n"
   ]
  },
  {
   "cell_type": "markdown",
   "metadata": {},
   "source": [
    "## Cleate dataset.zip file"
   ]
  },
  {
   "cell_type": "code",
   "execution_count": null,
   "metadata": {},
   "outputs": [],
   "source": [
    "import datetime\n",
    "def timestr():\n",
    "    return str(datetime.datetime.now().strftime('%Y-%m-%d_%H-%M-%S'))\n",
    "\n",
    "!zip -r -q jetbot_{DATASET_DIR}_{timestr()}.zip {DATASET_DIR}"
   ]
  }
 ],
 "metadata": {
  "kernelspec": {
   "display_name": "Python 3",
   "language": "python",
   "name": "python3"
  },
  "language_info": {
   "codemirror_mode": {
    "name": "ipython",
    "version": 3
   },
   "file_extension": ".py",
   "mimetype": "text/x-python",
   "name": "python",
   "nbconvert_exporter": "python",
   "pygments_lexer": "ipython3",
   "version": "3.6.9"
  }
 },
 "nbformat": 4,
 "nbformat_minor": 4
}